{
 "cells": [
  {
   "cell_type": "code",
   "execution_count": 31,
   "id": "efd99f3c",
   "metadata": {},
   "outputs": [],
   "source": [
    "# Import libraries\n",
    "import numpy as np\n",
    "import matplotlib as plt\n",
    "from skimage import color, exposure, io, viewer"
   ]
  },
  {
   "cell_type": "code",
   "execution_count": 39,
   "id": "9ab11ccd",
   "metadata": {},
   "outputs": [],
   "source": [
    "# Open folder in this same direction\n",
    "filepath = \"images/i.jpg\""
   ]
  },
  {
   "cell_type": "code",
   "execution_count": 42,
   "id": "6757da83",
   "metadata": {},
   "outputs": [],
   "source": [
    "image = io.imread(filepath)"
   ]
  },
  {
   "cell_type": "code",
   "execution_count": null,
   "id": "fd74cbd2",
   "metadata": {},
   "outputs": [],
   "source": []
  },
  {
   "cell_type": "code",
   "execution_count": null,
   "id": "778b6fe1",
   "metadata": {},
   "outputs": [],
   "source": []
  }
 ],
 "metadata": {
  "kernelspec": {
   "display_name": "Python 3",
   "language": "python",
   "name": "python3"
  },
  "language_info": {
   "codemirror_mode": {
    "name": "ipython",
    "version": 3
   },
   "file_extension": ".py",
   "mimetype": "text/x-python",
   "name": "python",
   "nbconvert_exporter": "python",
   "pygments_lexer": "ipython3",
   "version": "3.8.8"
  }
 },
 "nbformat": 4,
 "nbformat_minor": 5
}
